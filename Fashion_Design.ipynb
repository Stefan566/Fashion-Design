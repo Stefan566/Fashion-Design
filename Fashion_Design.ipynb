{
  "nbformat": 4,
  "nbformat_minor": 0,
  "metadata": {
    "kernelspec": {
      "name": "python3",
      "display_name": "Python 3"
    },
    "language_info": {
      "codemirror_mode": {
        "name": "ipython",
        "version": 3
      },
      "file_extension": ".py",
      "mimetype": "text/x-python",
      "name": "python",
      "nbconvert_exporter": "python",
      "pygments_lexer": "ipython3",
      "version": "3.7.3"
    },
    "colab": {
      "name": "Fashion Design.ipynb",
      "provenance": [],
      "include_colab_link": true
    },
    "accelerator": "TPU"
  },
  "cells": [
    {
      "cell_type": "markdown",
      "metadata": {
        "id": "view-in-github",
        "colab_type": "text"
      },
      "source": [
        "<a href=\"https://colab.research.google.com/github/Stefan566/Fashion-Design/blob/master/Fashion_Design.ipynb\" target=\"_parent\"><img src=\"https://colab.research.google.com/assets/colab-badge.svg\" alt=\"Open In Colab\"/></a>"
      ]
    },
    {
      "cell_type": "markdown",
      "metadata": {
        "id": "FRF7CH5492Wq",
        "colab_type": "text"
      },
      "source": [
        "# Imports"
      ]
    },
    {
      "cell_type": "code",
      "metadata": {
        "id": "_jUidU7v92Wy",
        "colab_type": "code",
        "colab": {}
      },
      "source": [
        "import numpy as np\n",
        "import matplotlib.pyplot as plt\n",
        "%matplotlib inline"
      ],
      "execution_count": 0,
      "outputs": []
    },
    {
      "cell_type": "code",
      "metadata": {
        "id": "UY9KkSee92XE",
        "colab_type": "code",
        "outputId": "81309756-403c-4d0d-b8d2-7d28363b84a4",
        "colab": {
          "base_uri": "https://localhost:8080/",
          "height": 34
        }
      },
      "source": [
        "from keras.datasets import fashion_mnist\n",
        "from keras.layers import Input, Dense, Reshape, Flatten, Dropout\n",
        "from keras.layers.convolutional import UpSampling2D, Conv2D\n",
        "from keras.models import Sequential, Model\n",
        "from keras.optimizers import Adam\n",
        "from keras.layers import BatchNormalization, Activation, ZeroPadding2D\n",
        "from keras.layers.advanced_activations import LeakyReLU"
      ],
      "execution_count": 2,
      "outputs": [
        {
          "output_type": "stream",
          "text": [
            "Using TensorFlow backend.\n"
          ],
          "name": "stderr"
        }
      ]
    },
    {
      "cell_type": "markdown",
      "metadata": {
        "id": "8zd7OJMy92XT",
        "colab_type": "text"
      },
      "source": [
        "# Variables"
      ]
    },
    {
      "cell_type": "code",
      "metadata": {
        "id": "1JfbiAiI92XW",
        "colab_type": "code",
        "colab": {}
      },
      "source": [
        "img_rows = 28\n",
        "img_cols = 28\n",
        "img_channels = 1\n",
        "img_shape = (img_rows, img_cols, img_channels)\n",
        "latent_dim = 100\n",
        "epochs = 100000\n",
        "batch_size = 32"
      ],
      "execution_count": 0,
      "outputs": []
    },
    {
      "cell_type": "markdown",
      "metadata": {
        "id": "SqrM9-1w92Xh",
        "colab_type": "text"
      },
      "source": [
        "# Generator"
      ]
    },
    {
      "cell_type": "code",
      "metadata": {
        "id": "oTRqEHvg92Xk",
        "colab_type": "code",
        "colab": {}
      },
      "source": [
        "def generator():\n",
        "\n",
        "    model = Sequential()\n",
        "\n",
        "    model.add(Dense(256, input_dim=latent_dim))\n",
        "    model.add(LeakyReLU(alpha=0.2))\n",
        "    model.add(BatchNormalization(momentum=0.8))\n",
        "    model.add(Dense(512))\n",
        "    model.add(LeakyReLU(alpha=0.2))\n",
        "    model.add(BatchNormalization(momentum=0.8))\n",
        "    model.add(Dense(1024))\n",
        "    model.add(LeakyReLU(alpha=0.2))\n",
        "    model.add(BatchNormalization(momentum=0.8))\n",
        "    model.add(Dense(2048))\n",
        "    model.add(LeakyReLU(alpha=0.2))\n",
        "    model.add(BatchNormalization(momentum=0.8))\n",
        "    model.add(Dense(np.prod(img_shape), activation='tanh'))\n",
        "    model.add(Reshape(img_shape))\n",
        "\n",
        "    model.summary()\n",
        "\n",
        "    noise = Input(shape=(latent_dim,))\n",
        "    img = model(noise)\n",
        "\n",
        "    return Model(noise, img)\n"
      ],
      "execution_count": 0,
      "outputs": []
    },
    {
      "cell_type": "markdown",
      "metadata": {
        "id": "CbvBDZj_92Xv",
        "colab_type": "text"
      },
      "source": [
        "# Discriminator"
      ]
    },
    {
      "cell_type": "code",
      "metadata": {
        "id": "FCDrndfv92Xx",
        "colab_type": "code",
        "colab": {}
      },
      "source": [
        "def discriminator():\n",
        "\n",
        "    model = Sequential()\n",
        "\n",
        "    model.add(Flatten(input_shape=img_shape))\n",
        "    model.add(Dense(512))\n",
        "    model.add(LeakyReLU(alpha=0.2))\n",
        "    model.add(Dense(512))\n",
        "    model.add(LeakyReLU(alpha=0.2))\n",
        "    model.add(Dense(256))\n",
        "    model.add(LeakyReLU(alpha=0.2))\n",
        "    model.add(Dense(1, activation='sigmoid'))\n",
        "    model.summary()\n",
        "\n",
        "    img = Input(shape=img_shape)\n",
        "    validity = model(img)\n",
        "\n",
        "    return Model(img, validity)\n"
      ],
      "execution_count": 0,
      "outputs": []
    },
    {
      "cell_type": "markdown",
      "metadata": {
        "id": "6t6OugCV92X9",
        "colab_type": "text"
      },
      "source": [
        "# Download and prepare the dataset"
      ]
    },
    {
      "cell_type": "code",
      "metadata": {
        "id": "MXXToQkQ92YD",
        "colab_type": "code",
        "outputId": "c663e585-6fa1-4cb5-cbe9-35967eb99da2",
        "colab": {
          "base_uri": "https://localhost:8080/",
          "height": 173
        }
      },
      "source": [
        "print('Download dataset')\n",
        "(X_train, _), (_, _) = fashion_mnist.load_data()\n",
        "X_train = X_train / 127.5 - 1.\n",
        "X_train = np.expand_dims(X_train, axis=3)\n",
        "valid = np.ones((batch_size, 1))\n",
        "fake = np.zeros((batch_size, 1))\n"
      ],
      "execution_count": 6,
      "outputs": [
        {
          "output_type": "stream",
          "text": [
            "Download dataset\n",
            "Downloading data from http://fashion-mnist.s3-website.eu-central-1.amazonaws.com/train-labels-idx1-ubyte.gz\n",
            "32768/29515 [=================================] - 0s 3us/step\n",
            "Downloading data from http://fashion-mnist.s3-website.eu-central-1.amazonaws.com/train-images-idx3-ubyte.gz\n",
            "26427392/26421880 [==============================] - 2s 0us/step\n",
            "Downloading data from http://fashion-mnist.s3-website.eu-central-1.amazonaws.com/t10k-labels-idx1-ubyte.gz\n",
            "8192/5148 [===============================================] - 0s 0us/step\n",
            "Downloading data from http://fashion-mnist.s3-website.eu-central-1.amazonaws.com/t10k-images-idx3-ubyte.gz\n",
            "4423680/4422102 [==============================] - 1s 0us/step\n"
          ],
          "name": "stdout"
        }
      ]
    },
    {
      "cell_type": "markdown",
      "metadata": {
        "id": "5Eu8rnv892YP",
        "colab_type": "text"
      },
      "source": [
        "# Compile the model"
      ]
    },
    {
      "cell_type": "code",
      "metadata": {
        "id": "zL2nfzNX92YS",
        "colab_type": "code",
        "outputId": "580ea469-f23a-4877-b8dc-89c310b43088",
        "colab": {
          "base_uri": "https://localhost:8080/",
          "height": 1000
        }
      },
      "source": [
        "optimizer = Adam(0.0002, 0.5)\n",
        "\n",
        "disc = discriminator()\n",
        "disc.compile(loss='binary_crossentropy', optimizer=optimizer, metrics=['accuracy'])\n",
        "\n",
        "gen = generator()\n",
        "\n",
        "z = Input(shape=(latent_dim,))\n",
        "img = gen(z)\n",
        "\n",
        "disc.trainable = False\n",
        "\n",
        "validity = disc(img)\n",
        "\n",
        "combined = Model(z, validity)\n",
        "combined.compile(loss='binary_crossentropy', optimizer=optimizer)\n"
      ],
      "execution_count": 7,
      "outputs": [
        {
          "output_type": "stream",
          "text": [
            "WARNING:tensorflow:From /usr/local/lib/python3.6/dist-packages/keras/backend/tensorflow_backend.py:66: The name tf.get_default_graph is deprecated. Please use tf.compat.v1.get_default_graph instead.\n",
            "\n",
            "WARNING:tensorflow:From /usr/local/lib/python3.6/dist-packages/keras/backend/tensorflow_backend.py:541: The name tf.placeholder is deprecated. Please use tf.compat.v1.placeholder instead.\n",
            "\n",
            "WARNING:tensorflow:From /usr/local/lib/python3.6/dist-packages/keras/backend/tensorflow_backend.py:4432: The name tf.random_uniform is deprecated. Please use tf.random.uniform instead.\n",
            "\n",
            "Model: \"sequential_1\"\n",
            "_________________________________________________________________\n",
            "Layer (type)                 Output Shape              Param #   \n",
            "=================================================================\n",
            "flatten_1 (Flatten)          (None, 784)               0         \n",
            "_________________________________________________________________\n",
            "dense_1 (Dense)              (None, 512)               401920    \n",
            "_________________________________________________________________\n",
            "leaky_re_lu_1 (LeakyReLU)    (None, 512)               0         \n",
            "_________________________________________________________________\n",
            "dense_2 (Dense)              (None, 512)               262656    \n",
            "_________________________________________________________________\n",
            "leaky_re_lu_2 (LeakyReLU)    (None, 512)               0         \n",
            "_________________________________________________________________\n",
            "dense_3 (Dense)              (None, 256)               131328    \n",
            "_________________________________________________________________\n",
            "leaky_re_lu_3 (LeakyReLU)    (None, 256)               0         \n",
            "_________________________________________________________________\n",
            "dense_4 (Dense)              (None, 1)                 257       \n",
            "=================================================================\n",
            "Total params: 796,161\n",
            "Trainable params: 796,161\n",
            "Non-trainable params: 0\n",
            "_________________________________________________________________\n",
            "WARNING:tensorflow:From /usr/local/lib/python3.6/dist-packages/keras/optimizers.py:793: The name tf.train.Optimizer is deprecated. Please use tf.compat.v1.train.Optimizer instead.\n",
            "\n",
            "WARNING:tensorflow:From /usr/local/lib/python3.6/dist-packages/keras/backend/tensorflow_backend.py:3657: The name tf.log is deprecated. Please use tf.math.log instead.\n",
            "\n",
            "WARNING:tensorflow:From /usr/local/lib/python3.6/dist-packages/tensorflow_core/python/ops/nn_impl.py:183: where (from tensorflow.python.ops.array_ops) is deprecated and will be removed in a future version.\n",
            "Instructions for updating:\n",
            "Use tf.where in 2.0, which has the same broadcast rule as np.where\n",
            "WARNING:tensorflow:From /usr/local/lib/python3.6/dist-packages/keras/backend/tensorflow_backend.py:148: The name tf.placeholder_with_default is deprecated. Please use tf.compat.v1.placeholder_with_default instead.\n",
            "\n",
            "Model: \"sequential_2\"\n",
            "_________________________________________________________________\n",
            "Layer (type)                 Output Shape              Param #   \n",
            "=================================================================\n",
            "dense_5 (Dense)              (None, 256)               25856     \n",
            "_________________________________________________________________\n",
            "leaky_re_lu_4 (LeakyReLU)    (None, 256)               0         \n",
            "_________________________________________________________________\n",
            "batch_normalization_1 (Batch (None, 256)               1024      \n",
            "_________________________________________________________________\n",
            "dense_6 (Dense)              (None, 512)               131584    \n",
            "_________________________________________________________________\n",
            "leaky_re_lu_5 (LeakyReLU)    (None, 512)               0         \n",
            "_________________________________________________________________\n",
            "batch_normalization_2 (Batch (None, 512)               2048      \n",
            "_________________________________________________________________\n",
            "dense_7 (Dense)              (None, 1024)              525312    \n",
            "_________________________________________________________________\n",
            "leaky_re_lu_6 (LeakyReLU)    (None, 1024)              0         \n",
            "_________________________________________________________________\n",
            "batch_normalization_3 (Batch (None, 1024)              4096      \n",
            "_________________________________________________________________\n",
            "dense_8 (Dense)              (None, 2048)              2099200   \n",
            "_________________________________________________________________\n",
            "leaky_re_lu_7 (LeakyReLU)    (None, 2048)              0         \n",
            "_________________________________________________________________\n",
            "batch_normalization_4 (Batch (None, 2048)              8192      \n",
            "_________________________________________________________________\n",
            "dense_9 (Dense)              (None, 784)               1606416   \n",
            "_________________________________________________________________\n",
            "reshape_1 (Reshape)          (None, 28, 28, 1)         0         \n",
            "=================================================================\n",
            "Total params: 4,403,728\n",
            "Trainable params: 4,396,048\n",
            "Non-trainable params: 7,680\n",
            "_________________________________________________________________\n"
          ],
          "name": "stdout"
        }
      ]
    },
    {
      "cell_type": "markdown",
      "metadata": {
        "id": "1k_ibVoL92Ya",
        "colab_type": "text"
      },
      "source": [
        "# Train"
      ]
    },
    {
      "cell_type": "code",
      "metadata": {
        "id": "MLxjFs3592Yd",
        "colab_type": "code",
        "outputId": "73bef0ac-ca5d-4d00-d805-5ad632d85216",
        "colab": {
          "base_uri": "https://localhost:8080/",
          "height": 1000
        }
      },
      "source": [
        "for epoch in range(epochs):\n",
        "\n",
        "    if epoch % 1000 == 0:\n",
        "      print('Epoch: ', epoch) \n",
        "    idx = np.random.randint(0, X_train.shape[0], batch_size)\n",
        "    imgs = X_train[idx]\n",
        "\n",
        "    noise = np.random.normal(0, 1, (batch_size, latent_dim))\n",
        "\n",
        "    gen_imgs = gen.predict(noise)\n",
        "\n",
        "    d_loss_real = disc.train_on_batch(imgs, valid)\n",
        "    d_loss_fake = disc.train_on_batch(gen_imgs, fake)\n",
        "    d_loss = 0.5 * np.add(d_loss_real, d_loss_fake)\n",
        "\n",
        "    noise = np.random.normal(0, 1, (batch_size, latent_dim))\n",
        "\n",
        "    g_loss = combined.train_on_batch(noise, valid)\n"
      ],
      "execution_count": 9,
      "outputs": [
        {
          "output_type": "stream",
          "text": [
            "Epoch:  0\n"
          ],
          "name": "stdout"
        },
        {
          "output_type": "stream",
          "text": [
            "/usr/local/lib/python3.6/dist-packages/keras/engine/training.py:493: UserWarning: Discrepancy between trainable weights and collected trainable weights, did you set `model.trainable` without calling `model.compile` after ?\n",
            "  'Discrepancy between trainable weights and collected trainable'\n"
          ],
          "name": "stderr"
        },
        {
          "output_type": "stream",
          "text": [
            "Epoch:  1000\n",
            "Epoch:  2000\n",
            "Epoch:  3000\n",
            "Epoch:  4000\n",
            "Epoch:  5000\n",
            "Epoch:  6000\n",
            "Epoch:  7000\n",
            "Epoch:  8000\n",
            "Epoch:  9000\n",
            "Epoch:  10000\n",
            "Epoch:  11000\n",
            "Epoch:  12000\n",
            "Epoch:  13000\n",
            "Epoch:  14000\n",
            "Epoch:  15000\n",
            "Epoch:  16000\n",
            "Epoch:  17000\n",
            "Epoch:  18000\n",
            "Epoch:  19000\n",
            "Epoch:  20000\n",
            "Epoch:  21000\n",
            "Epoch:  22000\n",
            "Epoch:  23000\n",
            "Epoch:  24000\n",
            "Epoch:  25000\n",
            "Epoch:  26000\n",
            "Epoch:  27000\n",
            "Epoch:  28000\n",
            "Epoch:  29000\n",
            "Epoch:  30000\n",
            "Epoch:  31000\n",
            "Epoch:  32000\n",
            "Epoch:  33000\n",
            "Epoch:  34000\n",
            "Epoch:  35000\n",
            "Epoch:  36000\n",
            "Epoch:  37000\n",
            "Epoch:  38000\n",
            "Epoch:  39000\n",
            "Epoch:  40000\n",
            "Epoch:  41000\n",
            "Epoch:  42000\n",
            "Epoch:  43000\n",
            "Epoch:  44000\n",
            "Epoch:  45000\n",
            "Epoch:  46000\n",
            "Epoch:  47000\n",
            "Epoch:  48000\n",
            "Epoch:  49000\n",
            "Epoch:  50000\n",
            "Epoch:  51000\n",
            "Epoch:  52000\n",
            "Epoch:  53000\n",
            "Epoch:  54000\n",
            "Epoch:  55000\n",
            "Epoch:  56000\n",
            "Epoch:  57000\n",
            "Epoch:  58000\n",
            "Epoch:  59000\n",
            "Epoch:  60000\n",
            "Epoch:  61000\n",
            "Epoch:  62000\n",
            "Epoch:  63000\n",
            "Epoch:  64000\n",
            "Epoch:  65000\n",
            "Epoch:  66000\n",
            "Epoch:  67000\n",
            "Epoch:  68000\n",
            "Epoch:  69000\n",
            "Epoch:  70000\n",
            "Epoch:  71000\n",
            "Epoch:  72000\n",
            "Epoch:  73000\n",
            "Epoch:  74000\n",
            "Epoch:  75000\n",
            "Epoch:  76000\n",
            "Epoch:  77000\n",
            "Epoch:  78000\n",
            "Epoch:  79000\n",
            "Epoch:  80000\n",
            "Epoch:  81000\n",
            "Epoch:  82000\n",
            "Epoch:  83000\n",
            "Epoch:  84000\n",
            "Epoch:  85000\n",
            "Epoch:  86000\n",
            "Epoch:  87000\n",
            "Epoch:  88000\n",
            "Epoch:  89000\n",
            "Epoch:  90000\n",
            "Epoch:  91000\n",
            "Epoch:  92000\n",
            "Epoch:  93000\n",
            "Epoch:  94000\n",
            "Epoch:  95000\n",
            "Epoch:  96000\n",
            "Epoch:  97000\n",
            "Epoch:  98000\n",
            "Epoch:  99000\n"
          ],
          "name": "stdout"
        }
      ]
    },
    {
      "cell_type": "markdown",
      "metadata": {
        "id": "REzTPfwe92Yn",
        "colab_type": "text"
      },
      "source": [
        "# Fianally generate pictures"
      ]
    },
    {
      "cell_type": "code",
      "metadata": {
        "id": "-Hy3Zgds92Yr",
        "colab_type": "code",
        "colab": {
          "base_uri": "https://localhost:8080/",
          "height": 268
        },
        "outputId": "a753aeb4-a2d3-4f39-ed2d-b58636a439de"
      },
      "source": [
        "noise = np.random.normal(0, 1, (2, latent_dim))\n",
        "gen_imgs = gen.predict(noise)\n",
        "\n",
        "gen_imgs = 0.5 * gen_imgs + 0.5\n",
        "\n",
        "fig, axs = plt.subplots(2)\n",
        "cnt = 0\n",
        "for i in range(0,2):\n",
        "    axs[i].imshow(gen_imgs[cnt, :,:,0]) # cmap ='gray'\n",
        "    axs[i].axis('off')\n",
        "    cnt += 1\n",
        "\n",
        "plt.show()\n",
        "plt.close()"
      ],
      "execution_count": 10,
      "outputs": [
        {
          "output_type": "display_data",
          "data": {
            "image/png": "[encoded data removed]",
            "text/plain": [
              "<Figure size 432x288 with 2 Axes>"
            ]
          },
          "metadata": {
            "tags": []
          }
        }
      ]
    },
    {
      "cell_type": "code",
      "metadata": {
        "id": "R_Tn8Sd392Yz",
        "colab_type": "code",
        "colab": {}
      },
      "source": [
        ""
      ],
      "execution_count": 0,
      "outputs": []
    }
  ]
}